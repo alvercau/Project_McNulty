{
 "cells": [
  {
   "cell_type": "markdown",
   "metadata": {},
   "source": [
    "# Getting the data\n",
    "\n",
    "Data to be used is the following:\n",
    "* tripdata from Bike Share NYC, available [here](https://s3.amazonaws.com/tripdata/index.html). Description of the fields available [here](https://www.citibikenyc.com/system-data).\n",
    "* weather data, requested from NOOA. Description available [here](https://www.ncdc.noaa.gov/cdo-web/datasets#LCD)\n",
    "\n",
    "## 1. Tripdata\n",
    "\n",
    "The data is in several .zip files in a bucket. The hrefs to the files cannot be found with beautiful soup, because the page loads a shadow page first, beautiful soup only gets access to this shadow page. I used Selenium webdriver to get the hrefs, because Selenium behaves like a 'real person'."
   ]
  },
  {
   "cell_type": "code",
   "execution_count": 39,
   "metadata": {
    "collapsed": true
   },
   "outputs": [],
   "source": [
    "from sqlalchemy import create_engine\n",
    "from selenium import webdriver\n",
    "import os\n",
    "import pandas as pd\n",
    "pd.set_option(\"display.max_rows\",20)"
   ]
  },
  {
   "cell_type": "code",
   "execution_count": 2,
   "metadata": {
    "collapsed": true
   },
   "outputs": [],
   "source": [
    "chromedriver = \"/Applications/chromedriver\"\n",
    "os.environ[\"webdriver.chrome.driver\"] = chromedriver\n",
    "driver = webdriver.Chrome(chromedriver)\n",
    "\n",
    "url = 'https://s3.amazonaws.com/tripdata/index.html'\n",
    "\n",
    "driver.get(url)\n"
   ]
  },
  {
   "cell_type": "code",
   "execution_count": 33,
   "metadata": {},
   "outputs": [
    {
     "data": {
      "text/plain": [
       "['https://s3.amazonaws.com/tripdata/201601-citibike-tripdata.zip',\n",
       " 'https://s3.amazonaws.com/tripdata/201602-citibike-tripdata.zip',\n",
       " 'https://s3.amazonaws.com/tripdata/201603-citibike-tripdata.zip',\n",
       " 'https://s3.amazonaws.com/tripdata/201604-citibike-tripdata.zip',\n",
       " 'https://s3.amazonaws.com/tripdata/201605-citibike-tripdata.zip',\n",
       " 'https://s3.amazonaws.com/tripdata/201606-citibike-tripdata.zip',\n",
       " 'https://s3.amazonaws.com/tripdata/201607-citibike-tripdata.zip',\n",
       " 'https://s3.amazonaws.com/tripdata/201608-citibike-tripdata.zip',\n",
       " 'https://s3.amazonaws.com/tripdata/201609-citibike-tripdata.zip',\n",
       " 'https://s3.amazonaws.com/tripdata/201610-citibike-tripdata.zip',\n",
       " 'https://s3.amazonaws.com/tripdata/201611-citibike-tripdata.zip',\n",
       " 'https://s3.amazonaws.com/tripdata/201612-citibike-tripdata.zip',\n",
       " 'https://s3.amazonaws.com/tripdata/JC-201601-citibike-tripdata.csv.zip',\n",
       " 'https://s3.amazonaws.com/tripdata/JC-201602-citibike-tripdata.csv.zip',\n",
       " 'https://s3.amazonaws.com/tripdata/JC-201603-citibike-tripdata.csv.zip',\n",
       " 'https://s3.amazonaws.com/tripdata/JC-201604-citibike-tripdata.csv.zip',\n",
       " 'https://s3.amazonaws.com/tripdata/JC-201605-citibike-tripdata.csv.zip',\n",
       " 'https://s3.amazonaws.com/tripdata/JC-201606-citibike-tripdata.csv.zip',\n",
       " 'https://s3.amazonaws.com/tripdata/JC-201607-citibike-tripdata.csv.zip',\n",
       " 'https://s3.amazonaws.com/tripdata/JC-201608-citibike-tripdata.csv.zip',\n",
       " 'https://s3.amazonaws.com/tripdata/JC-201609-citibike-tripdata.csv.zip',\n",
       " 'https://s3.amazonaws.com/tripdata/JC-201610-citibike-tripdata.csv.zip',\n",
       " 'https://s3.amazonaws.com/tripdata/JC-201611-citibike-tripdata.csv.zip',\n",
       " 'https://s3.amazonaws.com/tripdata/JC-201612-citibike-tripdata.csv.zip']"
      ]
     },
     "execution_count": 33,
     "metadata": {},
     "output_type": "execute_result"
    }
   ],
   "source": [
    "nodes = driver.find_elements_by_xpath('//a')\n",
    "list_urls = [node.get_attribute('href') for node in nodes[1:-1]]\n",
    "list_urls\n",
    "\n",
    "final_list = []\n",
    "for url in list_urls:\n",
    "    if '2016' in url:\n",
    "        final_list.append(url)\n",
    "with open('urls.txt', 'w') as thefile:\n",
    "    for item in final_list:\n",
    "        thefile.write(\"%s\\n\" % item)"
   ]
  },
  {
   "cell_type": "code",
   "execution_count": 31,
   "metadata": {},
   "outputs": [
    {
     "name": "stdout",
     "output_type": "stream",
     "text": [
      "['201601-citibike-tripdata.zip', '201602-citibike-tripdata.zip', '201603-citibike-tripdata.zip', '201604-citibike-tripdata.zip', '201605-citibike-tripdata.zip', '201606-citibike-tripdata.zip', '201607-citibike-tripdata.zip', '201608-citibike-tripdata.zip', '201609-citibike-tripdata.zip', '201610-citibike-tripdata.zip', '201611-citibike-tripdata.zip', '201612-citibike-tripdata.zip', 'JC-201601-citibike-tripdata.csv.zip', 'JC-201602-citibike-tripdata.csv.zip', 'JC-201603-citibike-tripdata.csv.zip', 'JC-201604-citibike-tripdata.csv.zip', 'JC-201605-citibike-tripdata.csv.zip', 'JC-201606-citibike-tripdata.csv.zip', 'JC-201607-citibike-tripdata.csv.zip', 'JC-201608-citibike-tripdata.csv.zip', 'JC-201609-citibike-tripdata.csv.zip', 'JC-201610-citibike-tripdata.csv.zip', 'JC-201611-citibike-tripdata.csv.zip', 'JC-201612-citibike-tripdata.csv.zip']\n"
     ]
    }
   ],
   "source": [
    "filenames = []\n",
    "for url in final_list:\n",
    "    filenames.append(url[url.rfind('/')+1:])\n",
    "print(filenames)\n",
    "with open ('filename.txt', 'w') as thefile:\n",
    "    for item in filenames:\n",
    "        thefile.write(\"%s\\n\" % item)"
   ]
  },
  {
   "cell_type": "markdown",
   "metadata": {},
   "source": [
    "I scp'ed the ursl.txt files to the EC2:"
   ]
  },
  {
   "cell_type": "raw",
   "metadata": {},
   "source": [
    "scp file.txt ubuntu:~"
   ]
  },
  {
   "cell_type": "markdown",
   "metadata": {},
   "source": [
    "Then on the EC2:\n",
    "* download all files\n",
    "* move all the files to a bikesharedata directory\n",
    "* unzip all files from within the bikesharedata directory"
   ]
  },
  {
   "cell_type": "raw",
   "metadata": {},
   "source": [
    "wget -i urls.txt\n",
    "mv *tripdata.csv.zip bikesharedata\n",
    "mv *tripdata.zip bikesharedata\n",
    "unzip '*.zip'\n",
    "rm *.zip"
   ]
  },
  {
   "cell_type": "markdown",
   "metadata": {},
   "source": [
    "## 2. Weather data\n",
    "\n",
    "Requested from NOOA, downloaded from the link they provided. I requested the hourly data, but the csv comes with all the columns, also the ones corresponding to daily data, so I will drop those before I ship it of to EC2. There are too many columns that have to be dropped, and writing the huge list of column names to create a SQL table takes way longer than just dropping them with pandas."
   ]
  },
  {
   "cell_type": "code",
   "execution_count": 3,
   "metadata": {},
   "outputs": [
    {
     "name": "stderr",
     "output_type": "stream",
     "text": [
      "/Applications/anaconda/lib/python3.6/site-packages/IPython/core/interactiveshell.py:2717: DtypeWarning: Columns (10,11,14,15,20,23,25,40,67,84,85,86,87) have mixed types. Specify dtype option on import or set low_memory=False.\n",
      "  interactivity=interactivity, compiler=compiler, result=result)\n"
     ]
    }
   ],
   "source": [
    "df = pd.read_csv('weather_data.csv', delimiter=';')"
   ]
  },
  {
   "cell_type": "code",
   "execution_count": 62,
   "metadata": {},
   "outputs": [
    {
     "data": {
      "text/html": [
       "<div>\n",
       "<style>\n",
       "    .dataframe thead tr:only-child th {\n",
       "        text-align: right;\n",
       "    }\n",
       "\n",
       "    .dataframe thead th {\n",
       "        text-align: left;\n",
       "    }\n",
       "\n",
       "    .dataframe tbody tr th {\n",
       "        vertical-align: top;\n",
       "    }\n",
       "</style>\n",
       "<table border=\"1\" class=\"dataframe\">\n",
       "  <thead>\n",
       "    <tr style=\"text-align: right;\">\n",
       "      <th></th>\n",
       "      <th>STATION</th>\n",
       "      <th>STATION_NAME</th>\n",
       "      <th>ELEVATION</th>\n",
       "      <th>LATITUDE</th>\n",
       "      <th>LONGITUDE</th>\n",
       "      <th>DATE</th>\n",
       "      <th>REPORTTPYE</th>\n",
       "      <th>HOURLYSKYCONDITIONS</th>\n",
       "      <th>HOURLYVISIBILITY</th>\n",
       "      <th>HOURLYPRSENTWEATHERTYPE</th>\n",
       "      <th>...</th>\n",
       "      <th>MonthlyMaxSeaLevelPressureTime</th>\n",
       "      <th>MonthlyMinSeaLevelPressureValue</th>\n",
       "      <th>MonthlyMinSeaLevelPressureDate</th>\n",
       "      <th>MonthlyMinSeaLevelPressureTime</th>\n",
       "      <th>MonthlyTotalHeatingDegreeDays</th>\n",
       "      <th>MonthlyTotalCoolingDegreeDays</th>\n",
       "      <th>MonthlyDeptFromNormalHeatingDD</th>\n",
       "      <th>MonthlyDeptFromNormalCoolingDD</th>\n",
       "      <th>MonthlyTotalSeasonToDateHeatingDD</th>\n",
       "      <th>MonthlyTotalSeasonToDateCoolingDD</th>\n",
       "    </tr>\n",
       "  </thead>\n",
       "  <tbody>\n",
       "    <tr>\n",
       "      <th>0</th>\n",
       "      <td>WBAN:94728</td>\n",
       "      <td>NY CITY CENTRAL PARK NY US</td>\n",
       "      <td>39.6</td>\n",
       "      <td>407.889</td>\n",
       "      <td>-739.669</td>\n",
       "      <td>01/07/13 00:13</td>\n",
       "      <td>FM-16</td>\n",
       "      <td>OVC:08 13</td>\n",
       "      <td>8.00</td>\n",
       "      <td>NaN</td>\n",
       "      <td>...</td>\n",
       "      <td>-9999</td>\n",
       "      <td>NaN</td>\n",
       "      <td>-9999</td>\n",
       "      <td>-9999</td>\n",
       "      <td>NaN</td>\n",
       "      <td>NaN</td>\n",
       "      <td>NaN</td>\n",
       "      <td>NaN</td>\n",
       "      <td>NaN</td>\n",
       "      <td>NaN</td>\n",
       "    </tr>\n",
       "    <tr>\n",
       "      <th>1</th>\n",
       "      <td>WBAN:94728</td>\n",
       "      <td>NY CITY CENTRAL PARK NY US</td>\n",
       "      <td>39.6</td>\n",
       "      <td>407.889</td>\n",
       "      <td>-739.669</td>\n",
       "      <td>01/07/13 00:51</td>\n",
       "      <td>FM-15</td>\n",
       "      <td>OVC:08 15</td>\n",
       "      <td>8.00</td>\n",
       "      <td>NaN</td>\n",
       "      <td>...</td>\n",
       "      <td>-9999</td>\n",
       "      <td>NaN</td>\n",
       "      <td>-9999</td>\n",
       "      <td>-9999</td>\n",
       "      <td>NaN</td>\n",
       "      <td>NaN</td>\n",
       "      <td>NaN</td>\n",
       "      <td>NaN</td>\n",
       "      <td>NaN</td>\n",
       "      <td>NaN</td>\n",
       "    </tr>\n",
       "    <tr>\n",
       "      <th>2</th>\n",
       "      <td>WBAN:94728</td>\n",
       "      <td>NY CITY CENTRAL PARK NY US</td>\n",
       "      <td>39.6</td>\n",
       "      <td>407.889</td>\n",
       "      <td>-739.669</td>\n",
       "      <td>01/07/13 01:49</td>\n",
       "      <td>FM-16</td>\n",
       "      <td>OVC:08 14</td>\n",
       "      <td>8.00</td>\n",
       "      <td>NaN</td>\n",
       "      <td>...</td>\n",
       "      <td>-9999</td>\n",
       "      <td>NaN</td>\n",
       "      <td>-9999</td>\n",
       "      <td>-9999</td>\n",
       "      <td>NaN</td>\n",
       "      <td>NaN</td>\n",
       "      <td>NaN</td>\n",
       "      <td>NaN</td>\n",
       "      <td>NaN</td>\n",
       "      <td>NaN</td>\n",
       "    </tr>\n",
       "    <tr>\n",
       "      <th>3</th>\n",
       "      <td>WBAN:94728</td>\n",
       "      <td>NY CITY CENTRAL PARK NY US</td>\n",
       "      <td>39.6</td>\n",
       "      <td>407.889</td>\n",
       "      <td>-739.669</td>\n",
       "      <td>01/07/13 01:51</td>\n",
       "      <td>FM-15</td>\n",
       "      <td>OVC:08 14</td>\n",
       "      <td>8.00</td>\n",
       "      <td>NaN</td>\n",
       "      <td>...</td>\n",
       "      <td>-9999</td>\n",
       "      <td>NaN</td>\n",
       "      <td>-9999</td>\n",
       "      <td>-9999</td>\n",
       "      <td>NaN</td>\n",
       "      <td>NaN</td>\n",
       "      <td>NaN</td>\n",
       "      <td>NaN</td>\n",
       "      <td>NaN</td>\n",
       "      <td>NaN</td>\n",
       "    </tr>\n",
       "    <tr>\n",
       "      <th>4</th>\n",
       "      <td>WBAN:94728</td>\n",
       "      <td>NY CITY CENTRAL PARK NY US</td>\n",
       "      <td>39.6</td>\n",
       "      <td>407.889</td>\n",
       "      <td>-739.669</td>\n",
       "      <td>01/07/13 02:51</td>\n",
       "      <td>FM-15</td>\n",
       "      <td>OVC:08 11</td>\n",
       "      <td>9.00</td>\n",
       "      <td>NaN</td>\n",
       "      <td>...</td>\n",
       "      <td>-9999</td>\n",
       "      <td>NaN</td>\n",
       "      <td>-9999</td>\n",
       "      <td>-9999</td>\n",
       "      <td>NaN</td>\n",
       "      <td>NaN</td>\n",
       "      <td>NaN</td>\n",
       "      <td>NaN</td>\n",
       "      <td>NaN</td>\n",
       "      <td>NaN</td>\n",
       "    </tr>\n",
       "  </tbody>\n",
       "</table>\n",
       "<p>5 rows × 90 columns</p>\n",
       "</div>"
      ],
      "text/plain": [
       "      STATION                STATION_NAME  ELEVATION  LATITUDE  LONGITUDE  \\\n",
       "0  WBAN:94728  NY CITY CENTRAL PARK NY US       39.6   407.889   -739.669   \n",
       "1  WBAN:94728  NY CITY CENTRAL PARK NY US       39.6   407.889   -739.669   \n",
       "2  WBAN:94728  NY CITY CENTRAL PARK NY US       39.6   407.889   -739.669   \n",
       "3  WBAN:94728  NY CITY CENTRAL PARK NY US       39.6   407.889   -739.669   \n",
       "4  WBAN:94728  NY CITY CENTRAL PARK NY US       39.6   407.889   -739.669   \n",
       "\n",
       "             DATE REPORTTPYE HOURLYSKYCONDITIONS HOURLYVISIBILITY  \\\n",
       "0  01/07/13 00:13      FM-16           OVC:08 13             8.00   \n",
       "1  01/07/13 00:51      FM-15           OVC:08 15             8.00   \n",
       "2  01/07/13 01:49      FM-16           OVC:08 14             8.00   \n",
       "3  01/07/13 01:51      FM-15           OVC:08 14             8.00   \n",
       "4  01/07/13 02:51      FM-15           OVC:08 11             9.00   \n",
       "\n",
       "  HOURLYPRSENTWEATHERTYPE                ...                  \\\n",
       "0                     NaN                ...                   \n",
       "1                     NaN                ...                   \n",
       "2                     NaN                ...                   \n",
       "3                     NaN                ...                   \n",
       "4                     NaN                ...                   \n",
       "\n",
       "  MonthlyMaxSeaLevelPressureTime MonthlyMinSeaLevelPressureValue  \\\n",
       "0                          -9999                             NaN   \n",
       "1                          -9999                             NaN   \n",
       "2                          -9999                             NaN   \n",
       "3                          -9999                             NaN   \n",
       "4                          -9999                             NaN   \n",
       "\n",
       "   MonthlyMinSeaLevelPressureDate  MonthlyMinSeaLevelPressureTime  \\\n",
       "0                           -9999                           -9999   \n",
       "1                           -9999                           -9999   \n",
       "2                           -9999                           -9999   \n",
       "3                           -9999                           -9999   \n",
       "4                           -9999                           -9999   \n",
       "\n",
       "  MonthlyTotalHeatingDegreeDays MonthlyTotalCoolingDegreeDays  \\\n",
       "0                           NaN                           NaN   \n",
       "1                           NaN                           NaN   \n",
       "2                           NaN                           NaN   \n",
       "3                           NaN                           NaN   \n",
       "4                           NaN                           NaN   \n",
       "\n",
       "   MonthlyDeptFromNormalHeatingDD  MonthlyDeptFromNormalCoolingDD  \\\n",
       "0                             NaN                             NaN   \n",
       "1                             NaN                             NaN   \n",
       "2                             NaN                             NaN   \n",
       "3                             NaN                             NaN   \n",
       "4                             NaN                             NaN   \n",
       "\n",
       "  MonthlyTotalSeasonToDateHeatingDD  MonthlyTotalSeasonToDateCoolingDD  \n",
       "0                               NaN                                NaN  \n",
       "1                               NaN                                NaN  \n",
       "2                               NaN                                NaN  \n",
       "3                               NaN                                NaN  \n",
       "4                               NaN                                NaN  \n",
       "\n",
       "[5 rows x 90 columns]"
      ]
     },
     "execution_count": 62,
     "metadata": {},
     "output_type": "execute_result"
    }
   ],
   "source": [
    "df.head()"
   ]
  },
  {
   "cell_type": "code",
   "execution_count": 4,
   "metadata": {},
   "outputs": [
    {
     "name": "stdout",
     "output_type": "stream",
     "text": [
      "0 STATION\n",
      "1 STATION_NAME\n",
      "2 ELEVATION\n",
      "3 LATITUDE\n",
      "4 LONGITUDE\n",
      "5 DATE\n",
      "6 REPORTTPYE\n",
      "7 HOURLYSKYCONDITIONS\n",
      "8 HOURLYVISIBILITY\n",
      "9 HOURLYPRSENTWEATHERTYPE\n",
      "10 HOURLYDRYBULBTEMPF\n",
      "11 HOURLYDRYBULBTEMPC\n",
      "12 HOURLYWETBULBTEMPF\n",
      "13 HOURLYWETBULBTEMPC\n",
      "14 HOURLYDewPointTempF\n",
      "15 HOURLYDewPointTempC\n",
      "16 HOURLYRelativeHumidity\n",
      "17 HOURLYWindSpeed\n",
      "18 HOURLYWindDirection\n",
      "19 HOURLYWindGustSpeed\n",
      "20 HOURLYStationPressure\n",
      "21 HOURLYPressureTendency\n",
      "22 HOURLYPressureChange\n",
      "23 HOURLYSeaLevelPressure\n",
      "24 HOURLYPrecip\n",
      "25 HOURLYAltimeterSetting\n",
      "26 DAILYMaximumDryBulbTemp\n",
      "27 DAILYMinimumDryBulbTemp\n",
      "28 DAILYAverageDryBulbTemp\n",
      "29 DAILYDeptFromNormalAverageTemp\n",
      "30 DAILYAverageRelativeHumidity\n",
      "31 DAILYAverageDewPointTemp\n",
      "32 DAILYAverageWetBulbTemp\n",
      "33 DAILYHeatingDegreeDays\n",
      "34 DAILYCoolingDegreeDays\n",
      "35 DAILYSunrise\n",
      "36 DAILYSunset\n",
      "37 DAILYWeather\n",
      "38 DAILYPrecip\n",
      "39 DAILYSnowfall\n",
      "40 DAILYSnowDepth\n",
      "41 DAILYAverageStationPressure\n",
      "42 DAILYAverageSeaLevelPressure\n",
      "43 DAILYAverageWindSpeed\n",
      "44 DAILYPeakWindSpeed\n",
      "45 PeakWindDirection\n",
      "46 DAILYSustainedWindSpeed\n",
      "47 DAILYSustainedWindDirection\n",
      "48 MonthlyMaximumTemp\n",
      "49 MonthlyMinimumTemp\n",
      "50 MonthlyMeanTemp\n",
      "51 MonthlyAverageRH\n",
      "52 MonthlyDewpointTemp\n",
      "53 MonthlyWetBulbTemp\n",
      "54 MonthlyAvgHeatingDegreeDays\n",
      "55 MonthlyAvgCoolingDegreeDays\n",
      "56 MonthlyStationPressure\n",
      "57 MonthlySeaLevelPressure\n",
      "58 MonthlyAverageWindSpeed\n",
      "59 MonthlyTotalSnowfall\n",
      "60 MonthlyDeptFromNormalMaximumTemp\n",
      "61 MonthlyDeptFromNormalMinimumTemp\n",
      "62 MonthlyDeptFromNormalAverageTemp\n",
      "63 MonthlyDeptFromNormalPrecip\n",
      "64 MonthlyTotalLiquidPrecip\n",
      "65 MonthlyGreatestPrecip\n",
      "66 MonthlyGreatestPrecipDate\n",
      "67 MonthlyGreatestSnowfall\n",
      "68 MonthlyGreatestSnowfallDate\n",
      "69 MonthlyGreatestSnowDepth\n",
      "70 MonthlyGreatestSnowDepthDate\n",
      "71 MonthlyDaysWithGT90Temp\n",
      "72 MonthlyDaysWithLT32Temp\n",
      "73 MonthlyDaysWithGT32Temp\n",
      "74 MonthlyDaysWithLT0Temp\n",
      "75 MonthlyDaysWithGT001Precip\n",
      "76 MonthlyDaysWithGT010Precip\n",
      "77 MonthlyDaysWithGT1Snow\n",
      "78 MonthlyMaxSeaLevelPressureValue\n",
      "79 MonthlyMaxSeaLevelPressureDate\n",
      "80 MonthlyMaxSeaLevelPressureTime\n",
      "81 MonthlyMinSeaLevelPressureValue\n",
      "82 MonthlyMinSeaLevelPressureDate\n",
      "83 MonthlyMinSeaLevelPressureTime\n",
      "84 MonthlyTotalHeatingDegreeDays\n",
      "85 MonthlyTotalCoolingDegreeDays\n",
      "86 MonthlyDeptFromNormalHeatingDD\n",
      "87 MonthlyDeptFromNormalCoolingDD\n",
      "88 MonthlyTotalSeasonToDateHeatingDD\n",
      "89 MonthlyTotalSeasonToDateCoolingDD\n"
     ]
    }
   ],
   "source": [
    "for i, column in enumerate(list(df)):\n",
    "    print(i, column)"
   ]
  },
  {
   "cell_type": "markdown",
   "metadata": {},
   "source": [
    "All the data is from the same station, so all information concerning station can be dropped."
   ]
  },
  {
   "cell_type": "code",
   "execution_count": 40,
   "metadata": {
    "collapsed": true
   },
   "outputs": [],
   "source": [
    "df_drop_daily = df[['DATE',\n",
    "       'REPORTTPYE', 'HOURLYSKYCONDITIONS', 'HOURLYVISIBILITY',\n",
    "       'HOURLYDRYBULBTEMPC', 'HOURLYWETBULBTEMPC',\n",
    "       'HOURLYWindSpeed', 'HOURLYWindDirection', 'HOURLYPrecip']]"
   ]
  },
  {
   "cell_type": "code",
   "execution_count": 41,
   "metadata": {},
   "outputs": [
    {
     "data": {
      "text/plain": [
       "(42484, 9)"
      ]
     },
     "execution_count": 41,
     "metadata": {},
     "output_type": "execute_result"
    }
   ],
   "source": [
    "df_drop_daily.shape"
   ]
  },
  {
   "cell_type": "code",
   "execution_count": 42,
   "metadata": {},
   "outputs": [
    {
     "data": {
      "text/plain": [
       "['DATE',\n",
       " 'REPORTTPYE',\n",
       " 'HOURLYSKYCONDITIONS',\n",
       " 'HOURLYVISIBILITY',\n",
       " 'HOURLYDRYBULBTEMPC',\n",
       " 'HOURLYWETBULBTEMPC',\n",
       " 'HOURLYWindSpeed',\n",
       " 'HOURLYWindDirection',\n",
       " 'HOURLYPrecip']"
      ]
     },
     "execution_count": 42,
     "metadata": {},
     "output_type": "execute_result"
    }
   ],
   "source": [
    "list(df_drop_daily)"
   ]
  },
  {
   "cell_type": "code",
   "execution_count": 43,
   "metadata": {},
   "outputs": [
    {
     "data": {
      "text/plain": [
       "DATE                    object\n",
       "REPORTTPYE              object\n",
       "HOURLYSKYCONDITIONS     object\n",
       "HOURLYVISIBILITY        object\n",
       "HOURLYDRYBULBTEMPC      object\n",
       "HOURLYWETBULBTEMPC     float64\n",
       "HOURLYWindSpeed        float64\n",
       "HOURLYWindDirection     object\n",
       "HOURLYPrecip            object\n",
       "dtype: object"
      ]
     },
     "execution_count": 43,
     "metadata": {},
     "output_type": "execute_result"
    }
   ],
   "source": [
    "df_drop_daily.dtypes"
   ]
  },
  {
   "cell_type": "code",
   "execution_count": 56,
   "metadata": {},
   "outputs": [
    {
     "data": {
      "text/plain": [
       "0    01/07/13 00:13\n",
       "1    01/07/13 00:51\n",
       "2    01/07/13 01:49\n",
       "3    01/07/13 01:51\n",
       "4    01/07/13 02:51\n",
       "Name: DATE, dtype: object"
      ]
     },
     "execution_count": 56,
     "metadata": {},
     "output_type": "execute_result"
    }
   ],
   "source": [
    "df.DATE.head()"
   ]
  },
  {
   "cell_type": "code",
   "execution_count": 45,
   "metadata": {
    "collapsed": true
   },
   "outputs": [],
   "source": [
    "relevant_dates = []\n",
    "for row in df.DATE:\n",
    "    if '/16' in row:\n",
    "        relevant_dates.append(row)"
   ]
  },
  {
   "cell_type": "code",
   "execution_count": 57,
   "metadata": {
    "collapsed": true
   },
   "outputs": [],
   "source": [
    "df_small = df_drop_daily[df_drop_daily.DATE.isin(relevant_dates)]"
   ]
  },
  {
   "cell_type": "code",
   "execution_count": 58,
   "metadata": {},
   "outputs": [
    {
     "data": {
      "text/html": [
       "<div>\n",
       "<style>\n",
       "    .dataframe thead tr:only-child th {\n",
       "        text-align: right;\n",
       "    }\n",
       "\n",
       "    .dataframe thead th {\n",
       "        text-align: left;\n",
       "    }\n",
       "\n",
       "    .dataframe tbody tr th {\n",
       "        vertical-align: top;\n",
       "    }\n",
       "</style>\n",
       "<table border=\"1\" class=\"dataframe\">\n",
       "  <thead>\n",
       "    <tr style=\"text-align: right;\">\n",
       "      <th></th>\n",
       "      <th>DATE</th>\n",
       "      <th>REPORTTPYE</th>\n",
       "      <th>HOURLYSKYCONDITIONS</th>\n",
       "      <th>HOURLYVISIBILITY</th>\n",
       "      <th>HOURLYDRYBULBTEMPC</th>\n",
       "      <th>HOURLYWETBULBTEMPC</th>\n",
       "      <th>HOURLYWindSpeed</th>\n",
       "      <th>HOURLYWindDirection</th>\n",
       "      <th>HOURLYPrecip</th>\n",
       "    </tr>\n",
       "  </thead>\n",
       "  <tbody>\n",
       "    <tr>\n",
       "      <th>28549</th>\n",
       "      <td>01/01/16 00:51</td>\n",
       "      <td>FM-15</td>\n",
       "      <td>OVC:08 37</td>\n",
       "      <td>10.00</td>\n",
       "      <td>5.6</td>\n",
       "      <td>2.4</td>\n",
       "      <td>5.0</td>\n",
       "      <td>VRB</td>\n",
       "      <td>0.00</td>\n",
       "    </tr>\n",
       "    <tr>\n",
       "      <th>28550</th>\n",
       "      <td>01/01/16 01:51</td>\n",
       "      <td>FM-15</td>\n",
       "      <td>OVC:08 36</td>\n",
       "      <td>10.00</td>\n",
       "      <td>5.0</td>\n",
       "      <td>2.0</td>\n",
       "      <td>3.0</td>\n",
       "      <td>VRB</td>\n",
       "      <td>0.00</td>\n",
       "    </tr>\n",
       "    <tr>\n",
       "      <th>28551</th>\n",
       "      <td>01/01/16 02:51</td>\n",
       "      <td>FM-15</td>\n",
       "      <td>OVC:08 34</td>\n",
       "      <td>10.00</td>\n",
       "      <td>5.0</td>\n",
       "      <td>2.1</td>\n",
       "      <td>5.0</td>\n",
       "      <td>280</td>\n",
       "      <td>0.00</td>\n",
       "    </tr>\n",
       "    <tr>\n",
       "      <th>28552</th>\n",
       "      <td>01/01/16 03:51</td>\n",
       "      <td>FM-15</td>\n",
       "      <td>OVC:08 31</td>\n",
       "      <td>10.00</td>\n",
       "      <td>5.0</td>\n",
       "      <td>2.1</td>\n",
       "      <td>9.0</td>\n",
       "      <td>280</td>\n",
       "      <td>0.00</td>\n",
       "    </tr>\n",
       "    <tr>\n",
       "      <th>28553</th>\n",
       "      <td>01/01/16 04:51</td>\n",
       "      <td>FM-15</td>\n",
       "      <td>OVC:08 44</td>\n",
       "      <td>10.00</td>\n",
       "      <td>4.4</td>\n",
       "      <td>1.7</td>\n",
       "      <td>10.0</td>\n",
       "      <td>270</td>\n",
       "      <td>0.00</td>\n",
       "    </tr>\n",
       "  </tbody>\n",
       "</table>\n",
       "</div>"
      ],
      "text/plain": [
       "                 DATE REPORTTPYE HOURLYSKYCONDITIONS HOURLYVISIBILITY  \\\n",
       "28549  01/01/16 00:51      FM-15           OVC:08 37            10.00   \n",
       "28550  01/01/16 01:51      FM-15           OVC:08 36            10.00   \n",
       "28551  01/01/16 02:51      FM-15           OVC:08 34            10.00   \n",
       "28552  01/01/16 03:51      FM-15           OVC:08 31            10.00   \n",
       "28553  01/01/16 04:51      FM-15           OVC:08 44            10.00   \n",
       "\n",
       "      HOURLYDRYBULBTEMPC  HOURLYWETBULBTEMPC  HOURLYWindSpeed  \\\n",
       "28549                5.6                 2.4              5.0   \n",
       "28550                5.0                 2.0              3.0   \n",
       "28551                5.0                 2.1              5.0   \n",
       "28552                5.0                 2.1              9.0   \n",
       "28553                4.4                 1.7             10.0   \n",
       "\n",
       "      HOURLYWindDirection HOURLYPrecip  \n",
       "28549                 VRB         0.00  \n",
       "28550                 VRB         0.00  \n",
       "28551                 280         0.00  \n",
       "28552                 280         0.00  \n",
       "28553                 270         0.00  "
      ]
     },
     "execution_count": 58,
     "metadata": {},
     "output_type": "execute_result"
    }
   ],
   "source": [
    "df_small.head()"
   ]
  },
  {
   "cell_type": "code",
   "execution_count": 59,
   "metadata": {
    "collapsed": true
   },
   "outputs": [],
   "source": [
    "df_small = df_small.dropna()"
   ]
  },
  {
   "cell_type": "code",
   "execution_count": 60,
   "metadata": {},
   "outputs": [
    {
     "data": {
      "text/html": [
       "<div>\n",
       "<style>\n",
       "    .dataframe thead tr:only-child th {\n",
       "        text-align: right;\n",
       "    }\n",
       "\n",
       "    .dataframe thead th {\n",
       "        text-align: left;\n",
       "    }\n",
       "\n",
       "    .dataframe tbody tr th {\n",
       "        vertical-align: top;\n",
       "    }\n",
       "</style>\n",
       "<table border=\"1\" class=\"dataframe\">\n",
       "  <thead>\n",
       "    <tr style=\"text-align: right;\">\n",
       "      <th></th>\n",
       "      <th>DATE</th>\n",
       "      <th>REPORTTPYE</th>\n",
       "      <th>HOURLYSKYCONDITIONS</th>\n",
       "      <th>HOURLYVISIBILITY</th>\n",
       "      <th>HOURLYDRYBULBTEMPC</th>\n",
       "      <th>HOURLYWETBULBTEMPC</th>\n",
       "      <th>HOURLYWindSpeed</th>\n",
       "      <th>HOURLYWindDirection</th>\n",
       "      <th>HOURLYPrecip</th>\n",
       "    </tr>\n",
       "  </thead>\n",
       "  <tbody>\n",
       "    <tr>\n",
       "      <th>28549</th>\n",
       "      <td>01/01/16 00:51</td>\n",
       "      <td>FM-15</td>\n",
       "      <td>OVC:08 37</td>\n",
       "      <td>10.00</td>\n",
       "      <td>5.6</td>\n",
       "      <td>2.4</td>\n",
       "      <td>5.0</td>\n",
       "      <td>VRB</td>\n",
       "      <td>0.00</td>\n",
       "    </tr>\n",
       "    <tr>\n",
       "      <th>28550</th>\n",
       "      <td>01/01/16 01:51</td>\n",
       "      <td>FM-15</td>\n",
       "      <td>OVC:08 36</td>\n",
       "      <td>10.00</td>\n",
       "      <td>5.0</td>\n",
       "      <td>2.0</td>\n",
       "      <td>3.0</td>\n",
       "      <td>VRB</td>\n",
       "      <td>0.00</td>\n",
       "    </tr>\n",
       "    <tr>\n",
       "      <th>28551</th>\n",
       "      <td>01/01/16 02:51</td>\n",
       "      <td>FM-15</td>\n",
       "      <td>OVC:08 34</td>\n",
       "      <td>10.00</td>\n",
       "      <td>5.0</td>\n",
       "      <td>2.1</td>\n",
       "      <td>5.0</td>\n",
       "      <td>280</td>\n",
       "      <td>0.00</td>\n",
       "    </tr>\n",
       "    <tr>\n",
       "      <th>28552</th>\n",
       "      <td>01/01/16 03:51</td>\n",
       "      <td>FM-15</td>\n",
       "      <td>OVC:08 31</td>\n",
       "      <td>10.00</td>\n",
       "      <td>5.0</td>\n",
       "      <td>2.1</td>\n",
       "      <td>9.0</td>\n",
       "      <td>280</td>\n",
       "      <td>0.00</td>\n",
       "    </tr>\n",
       "    <tr>\n",
       "      <th>28553</th>\n",
       "      <td>01/01/16 04:51</td>\n",
       "      <td>FM-15</td>\n",
       "      <td>OVC:08 44</td>\n",
       "      <td>10.00</td>\n",
       "      <td>4.4</td>\n",
       "      <td>1.7</td>\n",
       "      <td>10.0</td>\n",
       "      <td>270</td>\n",
       "      <td>0.00</td>\n",
       "    </tr>\n",
       "  </tbody>\n",
       "</table>\n",
       "</div>"
      ],
      "text/plain": [
       "                 DATE REPORTTPYE HOURLYSKYCONDITIONS HOURLYVISIBILITY  \\\n",
       "28549  01/01/16 00:51      FM-15           OVC:08 37            10.00   \n",
       "28550  01/01/16 01:51      FM-15           OVC:08 36            10.00   \n",
       "28551  01/01/16 02:51      FM-15           OVC:08 34            10.00   \n",
       "28552  01/01/16 03:51      FM-15           OVC:08 31            10.00   \n",
       "28553  01/01/16 04:51      FM-15           OVC:08 44            10.00   \n",
       "\n",
       "      HOURLYDRYBULBTEMPC  HOURLYWETBULBTEMPC  HOURLYWindSpeed  \\\n",
       "28549                5.6                 2.4              5.0   \n",
       "28550                5.0                 2.0              3.0   \n",
       "28551                5.0                 2.1              5.0   \n",
       "28552                5.0                 2.1              9.0   \n",
       "28553                4.4                 1.7             10.0   \n",
       "\n",
       "      HOURLYWindDirection HOURLYPrecip  \n",
       "28549                 VRB         0.00  \n",
       "28550                 VRB         0.00  \n",
       "28551                 280         0.00  \n",
       "28552                 280         0.00  \n",
       "28553                 270         0.00  "
      ]
     },
     "execution_count": 60,
     "metadata": {},
     "output_type": "execute_result"
    }
   ],
   "source": [
    "df_small.head()"
   ]
  },
  {
   "cell_type": "code",
   "execution_count": 61,
   "metadata": {
    "collapsed": true
   },
   "outputs": [],
   "source": [
    "df_small.to_csv('weatherdata.csv')"
   ]
  },
  {
   "cell_type": "markdown",
   "metadata": {},
   "source": [
    "## 3. Putting the data in the DB"
   ]
  },
  {
   "cell_type": "raw",
   "metadata": {},
   "source": [
    "CREATE TABLE Bikeshare (\n",
    "\trideID SERIAL PRIMARY KEY,\n",
    "\tduration int NOT NULL,\n",
    "\tstarttime timestamp NOT NULL,\n",
    "\tstoptime timestamp NOT NULL,\n",
    "\tstartstationID int NOT NULL,\n",
    "\tstartstationName varchar NOT NULL,\n",
    "\tstartstationLatitude int NOT NULL,\n",
    "\tstartstationLongitude int NOT NULL,\n",
    "\tendstationID int NOT NULL,\n",
    "\tendstationName varchar NOT NULL,\n",
    "\tendstationLatitude int NOT NULL,\n",
    "\tendstationLongitude int NOT NULL,\n",
    "\tbikeID int NOT NULL,\n",
    "\tusertype text NOT NULL,\n",
    "\tbirthyear int DEFAULT NULL,\n",
    "\tgender int\n",
    ");"
   ]
  },
  {
   "cell_type": "markdown",
   "metadata": {},
   "source": [
    "Copy multiple files into POSGRES table:"
   ]
  },
  {
   "cell_type": "raw",
   "metadata": {},
   "source": [
    "IMPFILES=(/home/aleksandra/bikesharedata/*.csv);\n",
    "for i in ${IMPFILES[@]}\n",
    "    do\n",
    "        psql -U aleksandra -d aleksandra -c \"\\copy bikeshare(duration, starttime, stoptime, startstationID, startstationName, startstationLatitude, startstationLongitude, endstationID, endstationName, endstationLatitude, endstationLongitude, bikeID, usertype, birthyear, gender) from '$i' DELIMITER ',' CSV HEADER\"\n",
    "        mv $i //home/aleksandra/bikesharedata/success\n",
    "    done\n",
    "\n",
    "# the mv part is to know which files were problematic. At first I got a whole list of error messages but there was no information on which files caused the errors. With this extra line, all succesfull files are moved to a special directory called failed (wrong name). "
   ]
  },
  {
   "cell_type": "markdown",
   "metadata": {},
   "source": [
    "The weatherdata will be imported after cleaning them."
   ]
  }
 ],
 "metadata": {
  "kernelspec": {
   "display_name": "Python 3",
   "language": "python",
   "name": "python3"
  },
  "language_info": {
   "codemirror_mode": {
    "name": "ipython",
    "version": 3
   },
   "file_extension": ".py",
   "mimetype": "text/x-python",
   "name": "python",
   "nbconvert_exporter": "python",
   "pygments_lexer": "ipython3",
   "version": "3.6.1"
  }
 },
 "nbformat": 4,
 "nbformat_minor": 2
}
