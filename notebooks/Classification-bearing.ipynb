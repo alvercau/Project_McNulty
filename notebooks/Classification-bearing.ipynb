{
 "cells": [
  {
   "cell_type": "markdown",
   "metadata": {},
   "source": [
    "# Classification:bearing\n",
    "\n",
    "## 1. Predicting the final destination of bikes\n",
    "\n",
    "Independent variables:\n",
    "* start latitude\n",
    "* start longitude\n",
    "* datetime\n",
    "* weather data\n",
    "\n",
    "Target variables:\n",
    "* first step: cardinal direction\n",
    "* second step: actual station\n",
    "\n",
    "Visualization:\n",
    "* Some sort of interactive map where you can click on a start station, and a heath circle shows up around it indicating the bike flow intensity."
   ]
  },
  {
   "cell_type": "code",
   "execution_count": 1,
   "metadata": {},
   "outputs": [
    {
     "name": "stderr",
     "output_type": "stream",
     "text": [
      "/home/aleksandra/anaconda3/lib/python3.6/site-packages/sklearn/cross_validation.py:44: DeprecationWarning: This module was deprecated in version 0.18 in favor of the model_selection module into which all the refactored classes and functions are moved. Also note that the interface of the new CV iterators are different from that of this module. This module will be removed in 0.20.\n",
      "  \"This module will be removed in 0.20.\", DeprecationWarning)\n"
     ]
    }
   ],
   "source": [
    "from sqlalchemy import create_engine\n",
    "import pandas as pd\n",
    "import matplotlib.pyplot as plt\n",
    "import seaborn as sns\n",
    "from seaborn import plt\n",
    "from sklearn.cross_validation import train_test_split\n",
    "from sklearn.neighbors import KNeighborsClassifier\n",
    "from sklearn.linear_model import LogisticRegression\n",
    "from sklearn.naive_bayes import GaussianNB\n",
    "from sklearn.svm import SVC\n",
    "from sklearn.tree import DecisionTreeClassifier\n",
    "from sklearn.ensemble import RandomForestClassifier\n",
    "from sklearn import metrics\n",
    "from sklearn.metrics import roc_curve, auc\n",
    "from sklearn.cross_validation import cross_val_score\n",
    "from sklearn.model_selection import GridSearchCV\n",
    "\n",
    "%matplotlib inline"
   ]
  },
  {
   "cell_type": "code",
   "execution_count": 2,
   "metadata": {
    "collapsed": true
   },
   "outputs": [],
   "source": [
    "# connect to the remote database\n",
    "cnx = create_engine('####')"
   ]
  },
  {
   "cell_type": "markdown",
   "metadata": {},
   "source": [
    "For now, without winddirection, because I do not know how to deal with the variable direction yet."
   ]
  },
  {
   "cell_type": "code",
   "execution_count": 3,
   "metadata": {
    "collapsed": true
   },
   "outputs": [],
   "source": [
    "data = pd.read_sql_query('''SELECT cardinal, startstationlatitude, startstationlongitude, user_dummy, visibility, \n",
    "drybulbtempc, wetbulbtempc, windspeed, precip \n",
    "FROM geodata INNER JOIN bikeshare ON bikeshare.rideid = geodata.rideid \n",
    "INNER JOIN weatherdata ON bikeshare.start_hour = weatherdata.date''', cnx)"
   ]
  },
  {
   "cell_type": "code",
   "execution_count": 8,
   "metadata": {},
   "outputs": [
    {
     "data": {
      "text/html": [
       "<div>\n",
       "<style>\n",
       "    .dataframe thead tr:only-child th {\n",
       "        text-align: right;\n",
       "    }\n",
       "\n",
       "    .dataframe thead th {\n",
       "        text-align: left;\n",
       "    }\n",
       "\n",
       "    .dataframe tbody tr th {\n",
       "        vertical-align: top;\n",
       "    }\n",
       "</style>\n",
       "<table border=\"1\" class=\"dataframe\">\n",
       "  <thead>\n",
       "    <tr style=\"text-align: right;\">\n",
       "      <th></th>\n",
       "      <th>cardinal</th>\n",
       "      <th>startstationlatitude</th>\n",
       "      <th>startstationlongitude</th>\n",
       "      <th>user_dummy</th>\n",
       "      <th>visibility</th>\n",
       "      <th>drybulbtempc</th>\n",
       "      <th>wetbulbtempc</th>\n",
       "      <th>windspeed</th>\n",
       "      <th>precip</th>\n",
       "    </tr>\n",
       "  </thead>\n",
       "  <tbody>\n",
       "    <tr>\n",
       "      <th>0</th>\n",
       "      <td>E</td>\n",
       "      <td>40.716887</td>\n",
       "      <td>-73.963198</td>\n",
       "      <td>1</td>\n",
       "      <td>10.0</td>\n",
       "      <td>4.4</td>\n",
       "      <td>1.6</td>\n",
       "      <td>5.0</td>\n",
       "      <td>0.0</td>\n",
       "    </tr>\n",
       "    <tr>\n",
       "      <th>1</th>\n",
       "      <td>N</td>\n",
       "      <td>40.685396</td>\n",
       "      <td>-73.974315</td>\n",
       "      <td>1</td>\n",
       "      <td>10.0</td>\n",
       "      <td>4.4</td>\n",
       "      <td>1.4</td>\n",
       "      <td>9.0</td>\n",
       "      <td>0.0</td>\n",
       "    </tr>\n",
       "    <tr>\n",
       "      <th>2</th>\n",
       "      <td>W</td>\n",
       "      <td>40.760875</td>\n",
       "      <td>-74.002777</td>\n",
       "      <td>1</td>\n",
       "      <td>10.0</td>\n",
       "      <td>4.4</td>\n",
       "      <td>1.4</td>\n",
       "      <td>14.0</td>\n",
       "      <td>0.0</td>\n",
       "    </tr>\n",
       "    <tr>\n",
       "      <th>3</th>\n",
       "      <td>E</td>\n",
       "      <td>40.680983</td>\n",
       "      <td>-73.950048</td>\n",
       "      <td>1</td>\n",
       "      <td>10.0</td>\n",
       "      <td>4.4</td>\n",
       "      <td>1.4</td>\n",
       "      <td>14.0</td>\n",
       "      <td>0.0</td>\n",
       "    </tr>\n",
       "    <tr>\n",
       "      <th>4</th>\n",
       "      <td>NE</td>\n",
       "      <td>40.711731</td>\n",
       "      <td>-73.991930</td>\n",
       "      <td>1</td>\n",
       "      <td>10.0</td>\n",
       "      <td>4.4</td>\n",
       "      <td>1.4</td>\n",
       "      <td>14.0</td>\n",
       "      <td>0.0</td>\n",
       "    </tr>\n",
       "  </tbody>\n",
       "</table>\n",
       "</div>"
      ],
      "text/plain": [
       "  cardinal  startstationlatitude  startstationlongitude  user_dummy  \\\n",
       "0        E             40.716887             -73.963198           1   \n",
       "1        N             40.685396             -73.974315           1   \n",
       "2        W             40.760875             -74.002777           1   \n",
       "3        E             40.680983             -73.950048           1   \n",
       "4       NE             40.711731             -73.991930           1   \n",
       "\n",
       "   visibility  drybulbtempc  wetbulbtempc  windspeed  precip  \n",
       "0        10.0           4.4           1.6        5.0     0.0  \n",
       "1        10.0           4.4           1.4        9.0     0.0  \n",
       "2        10.0           4.4           1.4       14.0     0.0  \n",
       "3        10.0           4.4           1.4       14.0     0.0  \n",
       "4        10.0           4.4           1.4       14.0     0.0  "
      ]
     },
     "execution_count": 8,
     "metadata": {},
     "output_type": "execute_result"
    }
   ],
   "source": [
    "data.head()"
   ]
  },
  {
   "cell_type": "code",
   "execution_count": 9,
   "metadata": {},
   "outputs": [
    {
     "data": {
      "text/plain": [
       "9726711"
      ]
     },
     "execution_count": 9,
     "metadata": {},
     "output_type": "execute_result"
    }
   ],
   "source": [
    "len(data)"
   ]
  },
  {
   "cell_type": "markdown",
   "metadata": {},
   "source": [
    "We lost about a million datapoints, because no weather information is available for those date-hours."
   ]
  },
  {
   "cell_type": "code",
   "execution_count": 10,
   "metadata": {},
   "outputs": [
    {
     "data": {
      "text/plain": [
       "9726711"
      ]
     },
     "execution_count": 10,
     "metadata": {},
     "output_type": "execute_result"
    }
   ],
   "source": [
    "len(data.dropna())"
   ]
  },
  {
   "cell_type": "markdown",
   "metadata": {},
   "source": [
    "No null values anywhere, so we can start modeling."
   ]
  },
  {
   "cell_type": "code",
   "execution_count": 4,
   "metadata": {
    "collapsed": true
   },
   "outputs": [],
   "source": [
    "y = data.cardinal\n",
    "X = data.drop('cardinal', 1)"
   ]
  },
  {
   "cell_type": "code",
   "execution_count": 6,
   "metadata": {},
   "outputs": [
    {
     "name": "stdout",
     "output_type": "stream",
     "text": [
      "(9726711,)\n",
      "(9726711, 8)\n"
     ]
    }
   ],
   "source": [
    "print(y.shape)\n",
    "print(X.shape)"
   ]
  },
  {
   "cell_type": "markdown",
   "metadata": {},
   "source": [
    "Run all the models to get an idea:"
   ]
  },
  {
   "cell_type": "code",
   "execution_count": 13,
   "metadata": {
    "collapsed": true
   },
   "outputs": [],
   "source": [
    "def statistics_CV(model, X, y):\n",
    "    accuracy = cross_val_score(model, X, y, scoring = 'accuracy').mean()\n",
    "    precision = cross_val_score(model, X, y, scoring = 'precision').mean()\n",
    "    recall = cross_val_score(model, X, y, scoring = 'recall').mean()\n",
    "    f1 = cross_val_score(model, X, y, scoring = 'f1').mean()\n",
    "    print(model)\n",
    "    print('Accuracy: ', accuracy)\n",
    "    print('Precision: ', precision)\n",
    "    print('Recall: ', recall)\n",
    "    print('F1 score: ', f1)\n",
    "    print('\\n')"
   ]
  },
  {
   "cell_type": "code",
   "execution_count": 14,
   "metadata": {
    "collapsed": true
   },
   "outputs": [],
   "source": [
    "from collections import defaultdict\n",
    "\n",
    "def statistics_CV2(model, X, y):\n",
    "    '''takes list of model, instantiation of the model and returns dict with accuracy score, precision, recall,\n",
    "    f1, fpr, tpr, auc'''\n",
    "    cv = StratifiedKFold(n_splits=6)\n",
    "    lgr = model[1]\n",
    "    scores = defaultdict(list)\n",
    "    for train, test in cv.split(X, y):\n",
    "        lgr.fit(X_train, y_train)\n",
    "        y_pred = lgr.predict(X_test)\n",
    "        fpr, tpr, thresholds = metrics.roc_curve(y_test, y_pred)\n",
    "        scores[model[0]].append(metrics.accuracy_score(y_test, y_pred))\n",
    "        scores[model[0]].append(metrics.precision_score(y_test, y_pred))\n",
    "        scores[model[0]].append(metrics.recall_score(y_test, y_pred))\n",
    "        scores[model[0]].append(metrics.f1_score(y_test, y_pred))\n",
    "        scores[model[0]].append(fpr)\n",
    "        scores[model[0]].append(tpr)\n",
    "        scores[model[0]].append(metrics.auc(fpr, tpr))\n",
    "    return scores"
   ]
  },
  {
   "cell_type": "code",
   "execution_count": null,
   "metadata": {
    "collapsed": true
   },
   "outputs": [],
   "source": [
    "#for model in [KNeighborsClassifier(n_jobs = -1), LogisticRegression(n_jobs = -1), \n",
    "#              RandomForestClassifier(n_jobs = -1)]:\n",
    "#    statistics_CV(model, X, y)\n",
    "# gaussian, svc, decisiontree do not have n_jobs"
   ]
  },
  {
   "cell_type": "code",
   "execution_count": 7,
   "metadata": {},
   "outputs": [
    {
     "data": {
      "text/plain": [
       "<matplotlib.text.Text at 0x7fc72e48e518>"
      ]
     },
     "execution_count": 7,
     "metadata": {},
     "output_type": "execute_result"
    },
    {
     "data": {
      "image/png": "[encoded data removed]",
      "text/plain": [
       "<matplotlib.figure.Figure at 0x7fc85bd3e438>"
      ]
     },
     "metadata": {},
     "output_type": "display_data"
    }
   ],
   "source": [
    "order = ['N', 'NE', 'E', 'SE', 'S', 'SW', 'W', 'NW', 'None']\n",
    "sns.countplot(y, order=order, color='tab:green')\n",
    "plt.title('Balance of cardinal direction (target)')"
   ]
  },
  {
   "cell_type": "code",
   "execution_count": null,
   "metadata": {
    "collapsed": true
   },
   "outputs": [],
   "source": [
    "statistics = []\n",
    "#for model in [('KNN', KNeighborsClassifier(n_jobs = -1)), ('Logistic Regression', LogisticRegression(n_jobs = -1)), \n",
    "#              ('Random Forest', RandomForestClassifier(n_jobs = -1))]:\n",
    "#    statistics.append(statistics_CV2(model, X, y))"
   ]
  },
  {
   "cell_type": "code",
   "execution_count": 5,
   "metadata": {
    "collapsed": true
   },
   "outputs": [],
   "source": [
    "def statistics_CV_pr(model, X, y):\n",
    "    X_train, X_test, y_train, y_test = train_test_split(X, y, random_state = 42)\n",
    "    mod = model\n",
    "    mod.fit(X_train, y_train)\n",
    "    y_pred = mod.predict(X_test)\n",
    "    print(model)\n",
    "    print(metrics.classification_report(y_test, y_pred))"
   ]
  },
  {
   "cell_type": "code",
   "execution_count": 6,
   "metadata": {},
   "outputs": [
    {
     "name": "stdout",
     "output_type": "stream",
     "text": [
      "LogisticRegression(C=1.0, class_weight=None, dual=False, fit_intercept=True,\n",
      "          intercept_scaling=1, max_iter=100, multi_class='ovr', n_jobs=6,\n",
      "          penalty='l2', random_state=None, solver='liblinear', tol=0.0001,\n",
      "          verbose=0, warm_start=False)\n",
      "             precision    recall  f1-score   support\n",
      "\n",
      "          E       0.00      0.00      0.00    260469\n",
      "          N       0.25      0.00      0.00    291765\n",
      "         NE       0.00      0.00      0.00    232973\n",
      "         NW       0.20      0.66      0.30    390370\n",
      "       None       0.00      0.00      0.00     49434\n",
      "          S       0.00      0.00      0.00    310064\n",
      "         SE       0.25      0.68      0.36    407742\n",
      "         SW       0.00      0.00      0.00    237506\n",
      "          W       0.00      0.00      0.00    251355\n",
      "\n",
      "avg / total       0.10      0.22      0.11   2431678\n",
      "\n"
     ]
    },
    {
     "name": "stderr",
     "output_type": "stream",
     "text": [
      "/home/aleksandra/anaconda3/lib/python3.6/site-packages/sklearn/metrics/classification.py:1113: UndefinedMetricWarning: Precision and F-score are ill-defined and being set to 0.0 in labels with no predicted samples.\n",
      "  'precision', 'predicted', average, warn_for)\n"
     ]
    }
   ],
   "source": [
    "statistics_CV_pr(LogisticRegression(n_jobs=6), X, y)"
   ]
  },
  {
   "cell_type": "code",
   "execution_count": null,
   "metadata": {
    "collapsed": true
   },
   "outputs": [],
   "source": []
  }
 ],
 "metadata": {
  "kernelspec": {
   "display_name": "Python 3",
   "language": "python",
   "name": "python3"
  },
  "language_info": {
   "codemirror_mode": {
    "name": "ipython",
    "version": 3
   },
   "file_extension": ".py",
   "mimetype": "text/x-python",
   "name": "python",
   "nbconvert_exporter": "python",
   "pygments_lexer": "ipython3",
   "version": "3.6.1"
  }
 },
 "nbformat": 4,
 "nbformat_minor": 2
}
